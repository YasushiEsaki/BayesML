{
 "cells": [
  {
   "cell_type": "code",
   "execution_count": 1,
   "metadata": {},
   "outputs": [],
   "source": [
    "import numpy as np\n",
    "import time"
   ]
  },
  {
   "cell_type": "markdown",
   "metadata": {},
   "source": [
    "## ベクトルの規格化（結果のみ）\n",
    "$n \\in \\{ 0, 1, \\dots , N-1\\}$に対し，$\\boldsymbol{a}_n \\in \\mathbb{R}^K$とする．\n",
    "\n",
    "このとき，$n \\in \\{ 0, 1, \\dots , N-1\\}$に対し，\n",
    "\\begin{align}\n",
    "\\boldsymbol{a}_n \\leftarrow \\frac{\\boldsymbol{a}_n}{\\sum_{k=0}^{K-1}a_{n,k}}\n",
    "\\end{align}\n",
    "を計算したい．"
   ]
  },
  {
   "cell_type": "code",
   "execution_count": 2,
   "metadata": {},
   "outputs": [],
   "source": [
    "# データ生成\n",
    "N = 10000\n",
    "K = 10\n",
    "\n",
    "A = np.random.rand(N,K)\n",
    "A_copy = np.copy(A)"
   ]
  },
  {
   "cell_type": "code",
   "execution_count": 3,
   "metadata": {},
   "outputs": [
    {
     "name": "stdout",
     "output_type": "stream",
     "text": [
      "0.18643975257873535\n"
     ]
    }
   ],
   "source": [
    "# for文による規格化\n",
    "start = time.time()\n",
    "\n",
    "tmp = 0.0\n",
    "for n in range(N):\n",
    "    tmp = 0.0\n",
    "    for k in range(K):\n",
    "        tmp += A[n,k]\n",
    "    for k in range(K):\n",
    "        A[n,k] /= tmp\n",
    "\n",
    "end = time.time()\n",
    "\n",
    "print(end - start)"
   ]
  },
  {
   "cell_type": "code",
   "execution_count": 4,
   "metadata": {},
   "outputs": [
    {
     "name": "stdout",
     "output_type": "stream",
     "text": [
      "0.005480527877807617\n"
     ]
    }
   ],
   "source": [
    "# for文を使わない規格化\n",
    "start = time.time()\n",
    "\n",
    "A_copy = A_copy / A_copy.sum(axis=1)[:,np.newaxis]\n",
    "# A_copy = A_copy / A_copy.sum(axis=1,keepdims=True)\n",
    "\n",
    "end = time.time()\n",
    "\n",
    "print(end - start)"
   ]
  },
  {
   "cell_type": "code",
   "execution_count": 5,
   "metadata": {},
   "outputs": [
    {
     "name": "stdout",
     "output_type": "stream",
     "text": [
      "5.165647742183792e-13\n"
     ]
    }
   ],
   "source": [
    "# 同じ計算になっていることを確認\n",
    "print(np.sum(np.abs(A - A_copy)))"
   ]
  },
  {
   "cell_type": "markdown",
   "metadata": {},
   "source": [
    "## shape\n",
    "行列のサイズに相当する概念だが，スカラーと1次元ベクトルと1×1行列は区別する．"
   ]
  },
  {
   "cell_type": "code",
   "execution_count": 6,
   "metadata": {},
   "outputs": [
    {
     "name": "stdout",
     "output_type": "stream",
     "text": [
      "(2, 3)\n"
     ]
    }
   ],
   "source": [
    "A = np.array([[1,2,3],\n",
    "              [4,5,6]]) # ちなみにこの宣言方法だと自動的に整数型になってしまうので注意\n",
    "print(A.shape)"
   ]
  },
  {
   "cell_type": "code",
   "execution_count": 7,
   "metadata": {},
   "outputs": [
    {
     "name": "stdout",
     "output_type": "stream",
     "text": [
      "(2, 2, 3)\n"
     ]
    }
   ],
   "source": [
    "B = np.array([[[1,2,3],\n",
    "               [4,5,6]],\n",
    "\n",
    "              [[7,8,9],\n",
    "               [10,11,12]]])\n",
    "print(B.shape)"
   ]
  },
  {
   "cell_type": "code",
   "execution_count": 8,
   "metadata": {},
   "outputs": [
    {
     "name": "stdout",
     "output_type": "stream",
     "text": [
      "[1.]\n",
      "(1,)\n",
      "[[1.]]\n",
      "(1, 1)\n",
      "[[[1.]]]\n",
      "(1, 1, 1)\n"
     ]
    }
   ],
   "source": [
    "a_1 = np.ones(1) # こちらは実数型で宣言される\n",
    "a_2 = np.ones((1,1))\n",
    "a_3 = np.ones((1,1,1))\n",
    "\n",
    "print(a_1)\n",
    "print(a_1.shape)\n",
    "print(a_2)\n",
    "print(a_2.shape)\n",
    "print(a_3)\n",
    "print(a_3.shape)"
   ]
  },
  {
   "cell_type": "markdown",
   "metadata": {},
   "source": [
    "## Broadcast\n",
    "→スライドで説明"
   ]
  },
  {
   "cell_type": "markdown",
   "metadata": {},
   "source": [
    "## ベクトルの規格化（仕組み）\n",
    "$n \\in \\{ 0, 1, \\dots , N-1\\}$に対し，$\\boldsymbol{a}_n \\in \\mathbb{R}^K$とする．\n",
    "\n",
    "このとき，$n \\in \\{ 0, 1, \\dots , N-1\\}$に対し，\n",
    "\\begin{align}\n",
    "\\boldsymbol{a}_n \\leftarrow \\frac{\\boldsymbol{a}_n}{\\sum_{k=0}^{K-1}a_{n,k}}\n",
    "\\end{align}\n",
    "を計算したい．"
   ]
  },
  {
   "cell_type": "code",
   "execution_count": 9,
   "metadata": {},
   "outputs": [],
   "source": [
    "# データ生成\n",
    "N = 10000\n",
    "K = 10\n",
    "\n",
    "A_for = np.random.rand(N,K)\n",
    "A_1 = np.copy(A_for)\n",
    "A_2 = np.copy(A_for)"
   ]
  },
  {
   "cell_type": "code",
   "execution_count": 10,
   "metadata": {},
   "outputs": [
    {
     "name": "stdout",
     "output_type": "stream",
     "text": [
      "0.1540236473083496\n"
     ]
    }
   ],
   "source": [
    "# for文のみ\n",
    "start = time.time()\n",
    "\n",
    "tmp = 0.0\n",
    "for n in range(N):\n",
    "    tmp = 0.0\n",
    "    for k in range(K):\n",
    "        tmp += A_for[n,k]\n",
    "    for k in range(K):\n",
    "        A_for[n,k] /= tmp\n",
    "\n",
    "end = time.time()\n",
    "\n",
    "print(end - start)"
   ]
  },
  {
   "cell_type": "code",
   "execution_count": 11,
   "metadata": {},
   "outputs": [
    {
     "name": "stdout",
     "output_type": "stream",
     "text": [
      "0.07667708396911621\n",
      "(10,)\n",
      "()\n"
     ]
    }
   ],
   "source": [
    "# ブロードキャスト利用レベル1\n",
    "start = time.time()\n",
    "\n",
    "for n in range(N):\n",
    "    A_1[n] /= A_1[n].sum()\n",
    "\n",
    "end = time.time()\n",
    "\n",
    "print(end - start)\n",
    "\n",
    "print(A_1[0].shape)\n",
    "print(A_1[0].sum().shape)"
   ]
  },
  {
   "cell_type": "code",
   "execution_count": 44,
   "metadata": {},
   "outputs": [
    {
     "ename": "ValueError",
     "evalue": "operands could not be broadcast together with shapes (10000,10) (10000,) (10000,10) ",
     "output_type": "error",
     "traceback": [
      "\u001b[1;31m---------------------------------------------------------------------------\u001b[0m",
      "\u001b[1;31mValueError\u001b[0m                                Traceback (most recent call last)",
      "\u001b[1;32m<ipython-input-44-0084d683cda5>\u001b[0m in \u001b[0;36m<module>\u001b[1;34m\u001b[0m\n\u001b[0;32m      1\u001b[0m \u001b[1;31m# # 失敗例\u001b[0m\u001b[1;33m\u001b[0m\u001b[1;33m\u001b[0m\u001b[1;33m\u001b[0m\u001b[0m\n\u001b[1;32m----> 2\u001b[1;33m \u001b[0mA_2\u001b[0m \u001b[1;33m/=\u001b[0m \u001b[0mA_2\u001b[0m\u001b[1;33m.\u001b[0m\u001b[0msum\u001b[0m\u001b[1;33m(\u001b[0m\u001b[0maxis\u001b[0m\u001b[1;33m=\u001b[0m\u001b[1;36m1\u001b[0m\u001b[1;33m)\u001b[0m\u001b[1;33m\u001b[0m\u001b[1;33m\u001b[0m\u001b[0m\n\u001b[0m",
      "\u001b[1;31mValueError\u001b[0m: operands could not be broadcast together with shapes (10000,10) (10000,) (10000,10) "
     ]
    }
   ],
   "source": [
    "# # 失敗例\n",
    "A_2 /= A_2.sum(axis=1)"
   ]
  },
  {
   "cell_type": "code",
   "execution_count": 13,
   "metadata": {},
   "outputs": [
    {
     "name": "stdout",
     "output_type": "stream",
     "text": [
      "0.0010004043579101562\n"
     ]
    }
   ],
   "source": [
    "# ブロードキャスト利用レベル2\n",
    "start = time.time()\n",
    "\n",
    "A_2 /= A_2.sum(axis=1)[:,np.newaxis]\n",
    "\n",
    "end = time.time()\n",
    "\n",
    "print(end - start)"
   ]
  },
  {
   "cell_type": "code",
   "execution_count": 14,
   "metadata": {},
   "outputs": [
    {
     "name": "stdout",
     "output_type": "stream",
     "text": [
      "(10000, 1)\n"
     ]
    }
   ],
   "source": [
    "# なぜうまくいくのか\n",
    "print(A_2.sum(axis=1)[:,np.newaxis].shape)"
   ]
  },
  {
   "cell_type": "code",
   "execution_count": 15,
   "metadata": {},
   "outputs": [
    {
     "name": "stdout",
     "output_type": "stream",
     "text": [
      "[[1.92467546]\n",
      " [1.9832042 ]\n",
      " [1.38556945]]\n",
      "[[1.92467546]\n",
      " [1.9832042 ]\n",
      " [1.38556945]]\n",
      "[[1.92467546]\n",
      " [1.9832042 ]\n",
      " [1.38556945]]\n"
     ]
    }
   ],
   "source": [
    "# （スライス）＋（np.newaxisまたはNone）=（追加軸のサイズを1にしたreshape）\n",
    "A = np.random.rand(3,4)\n",
    "print(A.sum(axis=1).reshape(3,1))\n",
    "print(A.sum(axis=1)[:,np.newaxis])\n",
    "print(A.sum(axis=1)[:,None])"
   ]
  },
  {
   "cell_type": "code",
   "execution_count": 16,
   "metadata": {},
   "outputs": [
    {
     "name": "stdout",
     "output_type": "stream",
     "text": [
      "(2, 4, 5)\n",
      "(2, 1, 4, 5, 1)\n"
     ]
    }
   ],
   "source": [
    "# np.sumやnp.maxのkeepdimsオプションをTrueにすると，和でつぶれる軸をサイズ1で残す\n",
    "A = np.random.rand(2,3,4,5,6)\n",
    "print(A.sum(axis=(1,4)).shape)\n",
    "print(A.sum(axis=(1,4),keepdims=True).shape)"
   ]
  },
  {
   "cell_type": "markdown",
   "metadata": {},
   "source": [
    "**より実践的な例**\n",
    "\n",
    "* 任意の$n \\in \\{ 0, 1, \\dots , N-1\\}$に対して$\\boldsymbol{a} \\in \\mathbb{R}^K$\n",
    "* 任意の$n \\in \\{ 0, 1, \\dots , N-1\\}$に対して$\\boldsymbol{b} \\in [0, 1]^K$\n",
    "\n",
    "このとき，任意の$n \\in \\{ 0, 1, \\dots , N-1\\}$に対して\n",
    "\\begin{align}\n",
    "b_i = \\frac{\\exp (a_i)}{\\sum_i \\exp (a_i)}\n",
    "\\end{align}\n",
    "を計算したい．しかし，このまま計算すると$\\exp (a_i)$の計算でオーバーフローする可能性がある．（$b_i$全体としては$[0, 1]$に収まるのでオーバーフローすることはない）\n",
    "\n",
    "そこで，$a_\\mathrm{max} := \\max_i a_i$とおいて，以下のようにするとオーバーフローを防げる．\n",
    "\\begin{align}\n",
    "b_i = \\frac{\\exp (a_i - a_\\mathrm{max})}{\\sum_i \\exp (a_i - a_\\mathrm{max})}\n",
    "\\end{align}"
   ]
  },
  {
   "cell_type": "code",
   "execution_count": 17,
   "metadata": {},
   "outputs": [],
   "source": [
    "# データ生成\n",
    "N = 10000\n",
    "K = 10\n",
    "\n",
    "A_for = np.random.rand(N,K)\n",
    "B_for = np.empty((N,K))\n",
    "\n",
    "A_1 = np.copy(A_for)\n",
    "B_1 = np.empty((N,K))\n",
    "\n",
    "A_2 = np.copy(A_for)\n",
    "B_2 = np.empty((N,K))"
   ]
  },
  {
   "cell_type": "code",
   "execution_count": 18,
   "metadata": {},
   "outputs": [
    {
     "name": "stdout",
     "output_type": "stream",
     "text": [
      "0.495164155960083\n"
     ]
    }
   ],
   "source": [
    "# for文のみ\n",
    "start = time.time()\n",
    "\n",
    "tmp_max = 1.0e+10\n",
    "tmp_sum = 0.0\n",
    "for n in range(N):\n",
    "    tmp_max = 1.0e+10\n",
    "    for k in range(K):\n",
    "        if A_for[n,k] > tmp_max:\n",
    "            tmp_max = A_for[n,k]\n",
    "    \n",
    "    for k in range(K):\n",
    "        B_for[n,k] = np.exp(A_for[n,k] - tmp)\n",
    "    \n",
    "    tmp_sum = 0.0\n",
    "    for k in range(K):\n",
    "        tmp_sum += B_for[n,k]\n",
    "\n",
    "    for k in range(K):\n",
    "        B_for[n,k] /= tmp_sum\n",
    "        \n",
    "end = time.time()\n",
    "\n",
    "print(end - start)"
   ]
  },
  {
   "cell_type": "code",
   "execution_count": 19,
   "metadata": {},
   "outputs": [
    {
     "name": "stdout",
     "output_type": "stream",
     "text": [
      "0.2061443328857422\n"
     ]
    }
   ],
   "source": [
    "# ブロードキャスト利用レベル1\n",
    "N = 10000\n",
    "K = 10\n",
    "\n",
    "start = time.time()\n",
    "\n",
    "for n in range(N):\n",
    "    B_1[n] = np.exp(A_1[n] - A_1[n].max())\n",
    "    B_1[n] /= B_1[n].sum()\n",
    "\n",
    "end = time.time()\n",
    "\n",
    "print(end - start)"
   ]
  },
  {
   "cell_type": "code",
   "execution_count": 20,
   "metadata": {},
   "outputs": [
    {
     "name": "stdout",
     "output_type": "stream",
     "text": [
      "0.009595870971679688\n"
     ]
    }
   ],
   "source": [
    "# ブロードキャスト利用レベル2\n",
    "N = 10000\n",
    "K = 10\n",
    "\n",
    "start = time.time()\n",
    "\n",
    "B_2 = np.exp(A_2 - A_2.max(axis=1, keepdims=True))\n",
    "B_2 /= B_2.sum(axis=1, keepdims=True)\n",
    "\n",
    "end = time.time()\n",
    "\n",
    "print(end - start)"
   ]
  },
  {
   "cell_type": "code",
   "execution_count": 21,
   "metadata": {},
   "outputs": [
    {
     "name": "stdout",
     "output_type": "stream",
     "text": [
      "1.9971316267408667e-12\n",
      "1.9965487596529385e-12\n"
     ]
    }
   ],
   "source": [
    "# 結果の確認\n",
    "print(np.sum(np.abs(B_for - B_1)))\n",
    "print(np.sum(np.abs(B_for - B_2)))"
   ]
  },
  {
   "cell_type": "markdown",
   "metadata": {},
   "source": [
    "## 行列の和や積\n",
    "**例1**\n",
    "* $\\boldsymbol{w} \\in \\mathbb{R}^N$\n",
    "* 任意の$n \\in \\{ 0, 1, \\dots , N-1\\}$に対し，$A_n \\in \\mathbb{R}^{K \\times M}$\n",
    "* $\\bar{A} \\in \\mathbb{R}^{K \\times M}$\n",
    "\n",
    "このとき，\n",
    "\\begin{align}\n",
    "\\bar{A} \\leftarrow \\sum_{n=0}^{N-1} w_n A_n\n",
    "\\end{align}\n",
    "を計算したい．"
   ]
  },
  {
   "cell_type": "code",
   "execution_count": 22,
   "metadata": {},
   "outputs": [],
   "source": [
    "# データ生成\n",
    "N = 1000\n",
    "K = 10\n",
    "M = 20\n",
    "\n",
    "w_0 = np.random.rand(N)\n",
    "A_0 = np.random.rand(N,K,M)\n",
    "A_bar_0 = np.zeros((K,M))\n",
    "\n",
    "w_1 = np.copy(w_0)\n",
    "A_1 = np.copy(A_0)\n",
    "A_bar_1 = np.empty((K,M))"
   ]
  },
  {
   "cell_type": "code",
   "execution_count": 23,
   "metadata": {},
   "outputs": [
    {
     "name": "stdout",
     "output_type": "stream",
     "text": [
      "0.009620428085327148\n"
     ]
    }
   ],
   "source": [
    "# ブロードキャスト利用レベル0\n",
    "start = time.time()\n",
    "\n",
    "for n in range(N):\n",
    "    A_bar_0 += w_0[n] * A_0[n]\n",
    "\n",
    "end = time.time()\n",
    "\n",
    "print(end - start)"
   ]
  },
  {
   "cell_type": "code",
   "execution_count": 24,
   "metadata": {},
   "outputs": [
    {
     "name": "stdout",
     "output_type": "stream",
     "text": [
      "0.002535104751586914\n"
     ]
    }
   ],
   "source": [
    "# ブロードキャスト利用レベル1\n",
    "start = time.time()\n",
    "\n",
    "A_bar_1 = np.sum(w_1[:,np.newaxis,np.newaxis] * A_1, axis=0)\n",
    "\n",
    "end = time.time()\n",
    "\n",
    "print(end - start)"
   ]
  },
  {
   "cell_type": "code",
   "execution_count": 25,
   "metadata": {},
   "outputs": [
    {
     "name": "stdout",
     "output_type": "stream",
     "text": [
      "0.0\n"
     ]
    }
   ],
   "source": [
    "# 結果の確認\n",
    "print(np.sum(np.abs(A_bar_0 - A_bar_1)))"
   ]
  },
  {
   "cell_type": "markdown",
   "metadata": {},
   "source": [
    "**行列積のブロードキャスト**<br>\n",
    "→スライドで説明"
   ]
  },
  {
   "cell_type": "markdown",
   "metadata": {},
   "source": [
    "**例2**\n",
    "* 任意の$n \\in \\{ 0, 1, \\dots , N-1\\}$に対し，$A_n \\in \\mathbb{R}^{K \\times M}$\n",
    "* $B \\in \\mathbb{R}^{M \\times K}$\n",
    "* $\\boldsymbol{t} \\in \\mathbb{R}^N$\n",
    "\n",
    "このとき，任意の$n \\in \\{ 0, 1, \\dots , N-1\\}$に対し，\n",
    "\\begin{align}\n",
    "t_n \\leftarrow \\mathrm{Tr} \\{ A_n B \\}\n",
    "\\end{align}\n",
    "を計算したい．"
   ]
  },
  {
   "cell_type": "code",
   "execution_count": 78,
   "metadata": {},
   "outputs": [],
   "source": [
    "# データの生成\n",
    "N = 10000\n",
    "K = 10\n",
    "M = 20\n",
    "\n",
    "A_for = np.random.rand(N,K,M)\n",
    "B_for = np.random.rand(M,K)\n",
    "t_for = np.empty(N)\n",
    "\n",
    "A_1 = np.copy(A_for)\n",
    "B_1 = np.copy(B_for)\n",
    "t_1 = np.empty(N)\n",
    "\n",
    "A_2 = np.copy(A_for)\n",
    "B_2 = np.copy(B_for)\n",
    "t_2 = np.empty(N)"
   ]
  },
  {
   "cell_type": "code",
   "execution_count": 66,
   "metadata": {},
   "outputs": [
    {
     "name": "stdout",
     "output_type": "stream",
     "text": [
      "0.14568448066711426\n"
     ]
    }
   ],
   "source": [
    "# for文のみ\n",
    "start = time.time()\n",
    "\n",
    "for n in range(N):\n",
    "    t_for[n] = np.trace(A_for[n] @ B_for)\n",
    "    \n",
    "end = time.time()\n",
    "\n",
    "print(end - start)"
   ]
  },
  {
   "cell_type": "code",
   "execution_count": 70,
   "metadata": {},
   "outputs": [
    {
     "name": "stdout",
     "output_type": "stream",
     "text": [
      "0.012549161911010742\n"
     ]
    }
   ],
   "source": [
    "# ブロードキャスト利用レベル2\n",
    "start = time.time()\n",
    "\n",
    "t_1 = np.trace(A_1 @ B_1, axis1 = 1, axis2 = 2)\n",
    "\n",
    "end = time.time()\n",
    "\n",
    "print(end - start)"
   ]
  },
  {
   "cell_type": "code",
   "execution_count": 60,
   "metadata": {},
   "outputs": [
    {
     "name": "stdout",
     "output_type": "stream",
     "text": [
      "0.0\n"
     ]
    }
   ],
   "source": [
    "# 結果の確認\n",
    "print(np.sum(np.abs(t_for - t_1)))"
   ]
  },
  {
   "cell_type": "code",
   "execution_count": 79,
   "metadata": {},
   "outputs": [
    {
     "name": "stdout",
     "output_type": "stream",
     "text": [
      "0.01363992691040039\n"
     ]
    }
   ],
   "source": [
    "# より高速なトレースの計算?\n",
    "start = time.time()\n",
    "\n",
    "t_2 = (A_2 * B_2.T).sum()\n",
    "    \n",
    "end = time.time()\n",
    "\n",
    "print(end - start)"
   ]
  },
  {
   "cell_type": "code",
   "execution_count": 83,
   "metadata": {},
   "outputs": [
    {
     "ename": "ValueError",
     "evalue": "operands could not be broadcast together with remapped shapes [original->remapped]: (10000,10,20)->(10000,10,20) (1,20,10)->(1,20,10) ",
     "output_type": "error",
     "traceback": [
      "\u001b[1;31m---------------------------------------------------------------------------\u001b[0m",
      "\u001b[1;31mValueError\u001b[0m                                Traceback (most recent call last)",
      "\u001b[1;32m<ipython-input-83-4516a5bbc385>\u001b[0m in \u001b[0;36m<module>\u001b[1;34m\u001b[0m\n\u001b[1;32m----> 1\u001b[1;33m \u001b[0mnp\u001b[0m\u001b[1;33m.\u001b[0m\u001b[0meinsum\u001b[0m\u001b[1;33m(\u001b[0m\u001b[1;34m'ijk,ijk->'\u001b[0m\u001b[1;33m,\u001b[0m \u001b[0mA_2\u001b[0m\u001b[1;33m,\u001b[0m \u001b[0mB_2\u001b[0m\u001b[1;33m[\u001b[0m\u001b[0mnp\u001b[0m\u001b[1;33m.\u001b[0m\u001b[0mnewaxis\u001b[0m\u001b[1;33m]\u001b[0m\u001b[1;33m)\u001b[0m\u001b[1;33m\u001b[0m\u001b[1;33m\u001b[0m\u001b[0m\n\u001b[0m",
      "\u001b[1;32m~\\Anaconda3\\lib\\site-packages\\numpy\\core\\einsumfunc.py\u001b[0m in \u001b[0;36meinsum\u001b[1;34m(*operands, **kwargs)\u001b[0m\n\u001b[0;32m   1344\u001b[0m     \u001b[1;31m# If no optimization, run pure einsum\u001b[0m\u001b[1;33m\u001b[0m\u001b[1;33m\u001b[0m\u001b[1;33m\u001b[0m\u001b[0m\n\u001b[0;32m   1345\u001b[0m     \u001b[1;32mif\u001b[0m \u001b[0moptimize_arg\u001b[0m \u001b[1;32mis\u001b[0m \u001b[1;32mFalse\u001b[0m\u001b[1;33m:\u001b[0m\u001b[1;33m\u001b[0m\u001b[1;33m\u001b[0m\u001b[0m\n\u001b[1;32m-> 1346\u001b[1;33m         \u001b[1;32mreturn\u001b[0m \u001b[0mc_einsum\u001b[0m\u001b[1;33m(\u001b[0m\u001b[1;33m*\u001b[0m\u001b[0moperands\u001b[0m\u001b[1;33m,\u001b[0m \u001b[1;33m**\u001b[0m\u001b[0mkwargs\u001b[0m\u001b[1;33m)\u001b[0m\u001b[1;33m\u001b[0m\u001b[1;33m\u001b[0m\u001b[0m\n\u001b[0m\u001b[0;32m   1347\u001b[0m \u001b[1;33m\u001b[0m\u001b[0m\n\u001b[0;32m   1348\u001b[0m     \u001b[0mvalid_einsum_kwargs\u001b[0m \u001b[1;33m=\u001b[0m \u001b[1;33m[\u001b[0m\u001b[1;34m'out'\u001b[0m\u001b[1;33m,\u001b[0m \u001b[1;34m'dtype'\u001b[0m\u001b[1;33m,\u001b[0m \u001b[1;34m'order'\u001b[0m\u001b[1;33m,\u001b[0m \u001b[1;34m'casting'\u001b[0m\u001b[1;33m]\u001b[0m\u001b[1;33m\u001b[0m\u001b[1;33m\u001b[0m\u001b[0m\n",
      "\u001b[1;31mValueError\u001b[0m: operands could not be broadcast together with remapped shapes [original->remapped]: (10000,10,20)->(10000,10,20) (1,20,10)->(1,20,10) "
     ]
    }
   ],
   "source": [
    "np.einsum('ijk,ijk->', A_2, B_2[np.newaxis])"
   ]
  },
  {
   "cell_type": "markdown",
   "metadata": {},
   "source": [
    "## 二次形式\n",
    "\n",
    "* 任意の$k \\in \\{ 0, 1, \\dots , K-1\\}$と任意の$j \\in \\{ 0, 1, \\dots , J-1\\}$に対して，$\\boldsymbol{x}_{k, j} \\in \\mathbb{R}^d$\n",
    "* 任意の$k \\in \\{ 0, 1, \\dots , K-1\\}$に対して$\\boldsymbol{\\mu}_k \\in \\mathbb{R}^d$\n",
    "* 任意の$l \\in \\{ 0, 1, \\dots , L-1\\}$に対して，$\\boldsymbol{\\Lambda}_l \\in \\mathbb{R}^{d \\times d}$\n",
    "* $\\boldsymbol{c} \\in \\mathbb{R}^K$\n",
    "\n",
    "このとき，任意の$k \\in \\{ 0, 1, \\dots , K-1\\}$に対して，\n",
    "\\begin{align}\n",
    "c_k \\leftarrow \\sum_{j, l} (\\boldsymbol{x}_{k, j} - \\boldsymbol{\\mu}_k)^\\top \\boldsymbol{\\Lambda}_l (\\boldsymbol{x}_{k, j} - \\boldsymbol{\\mu}_k)\n",
    "\\end{align}\n",
    "を計算したい．"
   ]
  },
  {
   "cell_type": "code",
   "execution_count": 30,
   "metadata": {},
   "outputs": [],
   "source": [
    "# データの生成\n",
    "K = 100\n",
    "J = 80\n",
    "d = 10\n",
    "L = 20\n",
    "\n",
    "X_for = np.random.rand(K,J,d,1)\n",
    "mu_for = np.random.rand(K,d,1)\n",
    "Lambda_for = np.random.rand(L,d,d)\n",
    "Lambda_for = (Lambda_for.transpose((0,2,1)) + Lambda_for) / 2.0\n",
    "c_for = np.zeros((K,1))\n",
    "\n",
    "X_1 = np.copy(X_for)\n",
    "mu_1 = np.copy(mu_for)\n",
    "Lambda_1 = np.copy(Lambda_for)\n",
    "c_1 = np.empty((K,1))\n",
    "\n",
    "X_2 = np.copy(X_for)\n",
    "mu_2 = np.copy(mu_for)\n",
    "Lambda_2 = np.copy(Lambda_for)\n",
    "c_2 = np.empty((K,1))\n",
    "\n",
    "X_3 = np.copy(X_for)\n",
    "mu_3 = np.copy(mu_for)\n",
    "Lambda_3 = np.copy(Lambda_for)\n",
    "c_3 = np.empty((K,1))"
   ]
  },
  {
   "cell_type": "code",
   "execution_count": 31,
   "metadata": {},
   "outputs": [
    {
     "name": "stdout",
     "output_type": "stream",
     "text": [
      "2.312133550643921\n"
     ]
    }
   ],
   "source": [
    "# for文のみ\n",
    "start = time.time()\n",
    "\n",
    "for k in range(K):\n",
    "    for j in range(J):\n",
    "        for l in range(L):\n",
    "            c_for[k,0] += ((X_for[k,j] - mu_for[k]).T\n",
    "                           @ Lambda_for[l]\n",
    "                           @ (X_for[k,j] - mu_for[k]))\n",
    "\n",
    "end = time.time()\n",
    "\n",
    "print(end - start)"
   ]
  },
  {
   "cell_type": "code",
   "execution_count": 32,
   "metadata": {},
   "outputs": [
    {
     "name": "stdout",
     "output_type": "stream",
     "text": [
      "0.07006120681762695\n"
     ]
    }
   ],
   "source": [
    "# ブロードキャスト利用レベル3(?)\n",
    "start = time.time()\n",
    "\n",
    "c_1[:,0] = np.sum((X_1[:,:,np.newaxis,:,:] - mu_1[:,np.newaxis,np.newaxis,:,:]).transpose(0,1,2,4,3)\n",
    "                   @ Lambda_1[np.newaxis,np.newaxis,:,:,:]\n",
    "                   @ (X_1[:,:,np.newaxis,:,:] - mu_1[:,np.newaxis,np.newaxis,:,:]),\n",
    "           axis=(1,2))[:,0,0]\n",
    "\n",
    "end = time.time()\n",
    "\n",
    "print(end - start)"
   ]
  },
  {
   "cell_type": "code",
   "execution_count": 33,
   "metadata": {},
   "outputs": [
    {
     "name": "stdout",
     "output_type": "stream",
     "text": [
      "0.05057787895202637\n"
     ]
    }
   ],
   "source": [
    "# ちょっとわかりやすくなるかもしれない考え方\n",
    "start = time.time()\n",
    "\n",
    "c_2[:,0] = np.sum(axis = 1,\n",
    "                  a = np.sum(axis = 2,\n",
    "                             a = (X_2[:,:,np.newaxis,:,:] - mu_2[:,np.newaxis,np.newaxis,:,:]).transpose(0,1,2,4,3)\n",
    "                                  @ Lambda_2[np.newaxis,np.newaxis,:,:,:]\n",
    "                                  @ (X_2[:,:,np.newaxis,:,:] - mu_2[:,np.newaxis,np.newaxis,:,:])\n",
    "                  )\n",
    "           )[:,0,0]\n",
    "\n",
    "end = time.time()\n",
    "\n",
    "print(end - start)"
   ]
  },
  {
   "cell_type": "code",
   "execution_count": 34,
   "metadata": {},
   "outputs": [
    {
     "name": "stdout",
     "output_type": "stream",
     "text": [
      "(100, 1)\n",
      "(100, 1)\n",
      "1.1431211532908492e-10\n"
     ]
    }
   ],
   "source": [
    "# 結果の確認\n",
    "print(c_for.shape)\n",
    "print(c_1.shape)\n",
    "print(np.sum(np.abs(c_for - c_1)))"
   ]
  },
  {
   "cell_type": "code",
   "execution_count": 35,
   "metadata": {},
   "outputs": [
    {
     "name": "stdout",
     "output_type": "stream",
     "text": [
      "(100, 1)\n",
      "1.1448264558566734e-10\n"
     ]
    }
   ],
   "source": [
    "# 結果の確認\n",
    "print(c_2.shape)\n",
    "print(np.sum(np.abs(c_for - c_2)))"
   ]
  },
  {
   "cell_type": "markdown",
   "metadata": {},
   "source": [
    "もっとうまい方法は\n",
    "\\begin{align}\n",
    "c_k \\leftarrow \\sum_l \\mathrm{Tr} \\left\\{ \\boldsymbol{\\Lambda}_l \\sum_j(\\boldsymbol{x}_{k, j} - \\boldsymbol{\\mu}_k) (\\boldsymbol{x}_{k, j} - \\boldsymbol{\\mu}_k)^\\top\\right\\}\n",
    "\\end{align}"
   ]
  },
  {
   "cell_type": "code",
   "execution_count": 36,
   "metadata": {},
   "outputs": [
    {
     "name": "stdout",
     "output_type": "stream",
     "text": [
      "0.018059730529785156\n"
     ]
    }
   ],
   "source": [
    "# 数式の同値変形まで使う\n",
    "start = time.time()\n",
    "\n",
    "c_3[:,0] = np.sum(\n",
    "                np.trace(\n",
    "                    Lambda_3[np.newaxis,:,:,:]\n",
    "                    @ np.sum((X_3[:,:,:,:] - mu_3[:,np.newaxis,:,:])\n",
    "                          @ (X_3[:,:,:,:] - mu_3[:,np.newaxis,:,:]).transpose(0,1,3,2),\n",
    "                      axis=1)[:,np.newaxis,:,:],\n",
    "                axis1=2, axis2=3),\n",
    "           axis=1)\n",
    "\n",
    "end = time.time()\n",
    "\n",
    "print(end - start)"
   ]
  },
  {
   "cell_type": "code",
   "execution_count": 37,
   "metadata": {
    "scrolled": true
   },
   "outputs": [
    {
     "name": "stdout",
     "output_type": "stream",
     "text": [
      "(100, 1)\n",
      "1.1937117960769683e-10\n"
     ]
    }
   ],
   "source": [
    "# 結果の確認\n",
    "print(c_3.shape)\n",
    "print(np.sum(np.abs(c_for - c_3)))"
   ]
  },
  {
   "cell_type": "markdown",
   "metadata": {},
   "source": [
    "## 条件を満たす要素の指定\n",
    "ゼロ除算を防ぐため，以下のような処理を行いたい場合がある．"
   ]
  },
  {
   "cell_type": "code",
   "execution_count": 38,
   "metadata": {},
   "outputs": [
    {
     "name": "stdout",
     "output_type": "stream",
     "text": [
      "0.8077993392944336\n"
     ]
    }
   ],
   "source": [
    "# データの生成\n",
    "EPSILON = 1.0e-10\n",
    "\n",
    "N = 10000\n",
    "K = 100\n",
    "A_for = np.random.rand(N, K)\n",
    "A_1 = np.copy(A_for)\n",
    "\n",
    "# for文のみ\n",
    "start = time.time()\n",
    "\n",
    "for i in range(N):\n",
    "    for j in range(K):\n",
    "        if A_for[i,j] < EPSILON:    # ゼロがあったら十分小さな数で置き換える\n",
    "            A_for[i,j] = EPSILON\n",
    "\n",
    "end = time.time()\n",
    "\n",
    "print(end - start)"
   ]
  },
  {
   "cell_type": "markdown",
   "metadata": {},
   "source": [
    "これは，for文を使わずに以下のように書ける"
   ]
  },
  {
   "cell_type": "code",
   "execution_count": 39,
   "metadata": {},
   "outputs": [
    {
     "name": "stdout",
     "output_type": "stream",
     "text": [
      "0.005132436752319336\n"
     ]
    }
   ],
   "source": [
    "# ブロードキャスト利用\n",
    "start = time.time()\n",
    "\n",
    "A_1[A_1 < EPSILON] = EPSILON\n",
    "\n",
    "end = time.time()\n",
    "\n",
    "print(end-start)"
   ]
  },
  {
   "cell_type": "markdown",
   "metadata": {},
   "source": [
    "詳しい挙動は以下"
   ]
  },
  {
   "cell_type": "code",
   "execution_count": 40,
   "metadata": {},
   "outputs": [
    {
     "name": "stdout",
     "output_type": "stream",
     "text": [
      "[[False False  True]\n",
      " [ True  True  True]]\n"
     ]
    }
   ],
   "source": [
    "A = np.array([[1,2,3],\n",
    "              [4,5,6]])\n",
    "print(A > 2)"
   ]
  },
  {
   "cell_type": "code",
   "execution_count": 41,
   "metadata": {},
   "outputs": [
    {
     "name": "stdout",
     "output_type": "stream",
     "text": [
      "[3 4 5 6]\n"
     ]
    }
   ],
   "source": [
    "B = np.array([[False,False,True],\n",
    "              [True,True,True]])\n",
    "print(A[B])"
   ]
  },
  {
   "cell_type": "markdown",
   "metadata": {},
   "source": [
    "## おまけ（研究での利用例）"
   ]
  },
  {
   "cell_type": "markdown",
   "metadata": {},
   "source": [
    "各$k \\in \\{1, 2, \\dots , K \\}$に対し\n",
    "\\begin{align}\n",
    "\\boldsymbol{W}^{-1}_k &= \\boldsymbol{W}^{-1} + \\sum_{j, m, n} \\hat{\\pi}_{mn, k}^{(j)} \\left( \\boldsymbol{\\Lambda}_{mn}^{(j)} \\right)^{-1} + \\sum_{j, m, n} \\tilde{\\pi}_{mn, k}^{(j)} \\left( \\hat{\\boldsymbol{\\mu}}_{mn}^{(j)} - \\tilde{\\boldsymbol{\\mu}}_k \\right) \\left( \\hat{\\boldsymbol{\\mu}}_{mn}^{(j)} - \\tilde{\\boldsymbol{\\mu}}_k \\right)^\\top + \\frac{\\beta \\tilde{N}_k}{\\beta + \\tilde{N}_k} \\left( \\tilde{\\boldsymbol{\\mu}}_k - \\eta \\right) \\left( \\tilde{\\boldsymbol{\\mu}}_k - \\eta \\right)^\\top\n",
    "\\end{align}\n",
    "（$j, m, n$はプログラム上では区別してません）"
   ]
  },
  {
   "cell_type": "code",
   "execution_count": 42,
   "metadata": {},
   "outputs": [],
   "source": [
    "# def update_W_hat(self):\n",
    "#     self.W_hat_inv = (W_INV\n",
    "#                       + np.sum(self.pi_hat[:,:,np.newaxis,np.newaxis]*self.Lambda_hat_inv[:,np.newaxis,:,:],axis=0)\n",
    "#                       + np.sum(self.pi_tilde[:,:,np.newaxis,np.newaxis]\n",
    "#                                 * (self.mu_hat[:,np.newaxis,:,:]-self.mu_tilde[np.newaxis,:,:,:])\n",
    "#                                 @ (self.mu_hat[:,np.newaxis,:,:]-self.mu_tilde[np.newaxis,:,:,:]).transpose(0,1,3,2)\n",
    "#                                 ,axis=0)\n",
    "#                       + (BETA*self.N_tilde/self.beta_hat)[:,np.newaxis,np.newaxis]\n",
    "#                           * (self.mu_tilde-ETA)\n",
    "#                           @ (self.mu_tilde-ETA).transpose(0,2,1)\n",
    "#                       )\n",
    "#     self.W_hat = np.linalg.inv(self.W_hat_inv)"
   ]
  }
 ],
 "metadata": {
  "kernelspec": {
   "display_name": "Python 3",
   "language": "python",
   "name": "python3"
  },
  "language_info": {
   "codemirror_mode": {
    "name": "ipython",
    "version": 3
   },
   "file_extension": ".py",
   "mimetype": "text/x-python",
   "name": "python",
   "nbconvert_exporter": "python",
   "pygments_lexer": "ipython3",
   "version": "3.7.4"
  },
  "toc": {
   "base_numbering": 1,
   "nav_menu": {},
   "number_sections": true,
   "sideBar": true,
   "skip_h1_title": false,
   "title_cell": "Table of Contents",
   "title_sidebar": "Contents",
   "toc_cell": false,
   "toc_position": {},
   "toc_section_display": true,
   "toc_window_display": false
  }
 },
 "nbformat": 4,
 "nbformat_minor": 4
}
