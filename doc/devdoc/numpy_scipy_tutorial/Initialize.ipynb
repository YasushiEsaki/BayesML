{
 "cells": [
  {
   "cell_type": "markdown",
   "metadata": {},
   "source": [
    "# numpyを用いた配列の初期化"
   ]
  },
  {
   "cell_type": "code",
   "execution_count": 1,
   "metadata": {},
   "outputs": [],
   "source": [
    "import numpy as np\n",
    "import time"
   ]
  },
  {
   "cell_type": "markdown",
   "metadata": {},
   "source": [
    "## N×Mの多次元配列の要素を全て0で初期化"
   ]
  },
  {
   "cell_type": "code",
   "execution_count": 2,
   "metadata": {},
   "outputs": [
    {
     "data": {
      "text/plain": [
       "array([[0., 0., 0., 0., 0.],\n",
       "       [0., 0., 0., 0., 0.],\n",
       "       [0., 0., 0., 0., 0.]])"
      ]
     },
     "execution_count": 2,
     "metadata": {},
     "output_type": "execute_result"
    }
   ],
   "source": [
    "N = 3\n",
    "M = 5\n",
    "arr_zero = np.zeros((N, M)) # 括弧を二重にしないとエラーになる（よくやりがち）\n",
    "\n",
    "# output\n",
    "arr_zero"
   ]
  },
  {
   "cell_type": "markdown",
   "metadata": {},
   "source": [
    "数値実験をする際、同じ形状の配列を複数初期化する場面に遭遇する．  \n",
    "その際は，`np.zeros_like`関数を用いると良い"
   ]
  },
  {
   "cell_type": "code",
   "execution_count": 3,
   "metadata": {},
   "outputs": [
    {
     "data": {
      "text/plain": [
       "array([[0., 0., 0., 0., 0.],\n",
       "       [0., 0., 0., 0., 0.],\n",
       "       [0., 0., 0., 0., 0.]])"
      ]
     },
     "execution_count": 3,
     "metadata": {},
     "output_type": "execute_result"
    }
   ],
   "source": [
    "# arr_zero配列と同じN×M行列を生成\n",
    "# 参照先の行列の値に依らず、0で初期化される\n",
    "arr_zero_same = np.zeros_like(arr_zero)\n",
    "\n",
    "# output\n",
    "arr_zero_same"
   ]
  },
  {
   "cell_type": "markdown",
   "metadata": {},
   "source": [
    "`zeros`を`ones`や`full`, `empty`に置き換えることで、上記と同じことは実現可能．  \n",
    "`empty`の方が他3つより早いというが，実際は`zeros`で十分．  \n",
    "実際ここまで大きい配列を生成したことがないため，あまり気にする必要はないはず"
   ]
  },
  {
   "cell_type": "code",
   "execution_count": 8,
   "metadata": {},
   "outputs": [
    {
     "name": "stdout",
     "output_type": "stream",
     "text": [
      "empty: 0.06741833686828613\n",
      "zeros: 0.0\n",
      "ones: 0.2820584774017334\n",
      "full: 0.31087255477905273\n"
     ]
    }
   ],
   "source": [
    "SIZE = 10000\n",
    "\n",
    "start = time.time()\n",
    "test_arr = np.empty((SIZE, SIZE))\n",
    "end = time.time()\n",
    "print(\"empty:\", end-start)\n",
    "\n",
    "start = time.time()\n",
    "test_arr = np.zeros((SIZE, SIZE))\n",
    "end = time.time()\n",
    "print(\"zeros:\", end-start)\n",
    "\n",
    "start = time.time()\n",
    "test_arr = np.ones((SIZE, SIZE))\n",
    "end = time.time()\n",
    "print(\"ones:\", end-start)\n",
    "\n",
    "start = time.time()\n",
    "test_arr = np.full((SIZE, SIZE), 3)\n",
    "end = time.time()\n",
    "print(\"full:\", end-start)"
   ]
  },
  {
   "cell_type": "markdown",
   "metadata": {},
   "source": [
    "[参考サイト](https://www.headboost.jp/numpy-array-initiation/)"
   ]
  }
 ],
 "metadata": {
  "kernelspec": {
   "display_name": "Python 3",
   "language": "python",
   "name": "python3"
  },
  "language_info": {
   "codemirror_mode": {
    "name": "ipython",
    "version": 3
   },
   "file_extension": ".py",
   "mimetype": "text/x-python",
   "name": "python",
   "nbconvert_exporter": "python",
   "pygments_lexer": "ipython3",
   "version": "3.7.4"
  }
 },
 "nbformat": 4,
 "nbformat_minor": 2
}
