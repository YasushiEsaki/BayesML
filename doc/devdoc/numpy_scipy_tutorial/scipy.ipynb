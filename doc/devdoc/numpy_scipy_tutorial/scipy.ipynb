{
 "cells": [
  {
   "cell_type": "markdown",
   "metadata": {},
   "source": [
    "# logsumexp関数"
   ]
  },
  {
   "cell_type": "markdown",
   "metadata": {},
   "source": [
    "## モチベーション"
   ]
  },
  {
   "cell_type": "markdown",
   "metadata": {},
   "source": [
    "$n \\in \\{ 0, 1, \\dots , N-1\\}$に対し，$\\boldsymbol{a}_n \\in \\mathbb{R}^K$とする．\n",
    "\n",
    "このとき，$n \\in \\{ 0, 1, \\dots , N-1\\}$に対し，\n",
    "\\begin{align}\n",
    "\\boldsymbol{a}_n \\leftarrow \\frac{\\boldsymbol{a}_n}{\\sum_{k=0}^{K-1}a_{n,k}}\n",
    "\\end{align}\n",
    "を計算したい．\n",
    "\n",
    "ここでは，実際に一昨年，香山が陥ったケースを想定して説明する．"
   ]
  },
  {
   "cell_type": "markdown",
   "metadata": {},
   "source": [
    "$a_n$の値が非常に大きい値であるとする．  \n",
    "すると，分母の和の部分でオーバーフローしてしまい，結果が`inf`になる可能性がある．\n",
    "\n",
    "そのため，$a_n$に対数を取った$\\log a_n$を値として用いる手法を考える．"
   ]
  },
  {
   "cell_type": "markdown",
   "metadata": {},
   "source": [
    "\\begin{align}\n",
    "\\boldsymbol{a}_n \\leftarrow \\frac{\\exp \\log \\boldsymbol{a}_n}{\\sum_{k=0}^{K-1} \\exp \\log a_{n,k}}\n",
    "\\end{align}"
   ]
  },
  {
   "cell_type": "markdown",
   "metadata": {},
   "source": [
    "見やすさの都合上，両辺に対数をとると（以降，$\\sum$と省略した形で書く），"
   ]
  },
  {
   "cell_type": "markdown",
   "metadata": {},
   "source": [
    "\\begin{align}\n",
    "\\log \\boldsymbol{a}_n &\\leftarrow \\log \\frac{\\exp \\log \\boldsymbol{a}_n}{\\sum \\exp \\log a_{n,k}} \\\\\n",
    "    &= \\log \\boldsymbol{a}_n - \\log \\sum \\exp \\log a_{n,k}\n",
    "\\end{align}\n",
    "\n",
    "$\\boldsymbol{x}_n = \\log \\boldsymbol{a}_n$とおくと，\n",
    "\n",
    "\\begin{align}\n",
    "\\boldsymbol{x}_n &\\leftarrow \\boldsymbol{x}_n - \\log \\sum \\exp \\boldsymbol{x}_{n,k}\n",
    "\\end{align}"
   ]
  },
  {
   "cell_type": "markdown",
   "metadata": {},
   "source": [
    "ここでまさかの，第二項に$\\sum \\exp$が出現．  \n",
    "このままではここでもオーバーフローの可能性があります．\n",
    "\n",
    "ここで取るべき手法が指数法則です．  \n",
    "適当な$C \\in R$を用いて，下記のように変形できる．"
   ]
  },
  {
   "cell_type": "markdown",
   "metadata": {},
   "source": [
    "\\begin{align}\n",
    "\\boldsymbol{a}_n \\leftarrow &\\frac{\\exp \\boldsymbol{x}_n}{\\sum \\exp\\boldsymbol{x}_{n,k}} \\\\\n",
    " & \\frac{\\exp (\\boldsymbol{x}_n - C)}{\\sum \\exp(\\boldsymbol{x}_{n,k} - C)}\n",
    "\\end{align}"
   ]
  },
  {
   "cell_type": "markdown",
   "metadata": {},
   "source": [
    "$C$には$\\boldsymbol{x}_n$の最大値を設定すれば，$\\exp (\\boldsymbol{x}_{n, k} - C)$の値が抑えられ，オーバーフローを防ぐことができる．  \n",
    "`logsumexp`関数は，定数$C$を適当に設定してくれる．"
   ]
  },
  {
   "cell_type": "code",
   "execution_count": 30,
   "metadata": {},
   "outputs": [
    {
     "name": "stdout",
     "output_type": "stream",
     "text": [
      "logsumexpを使用せず計算: inf\n",
      "logsumexpを使用して計算: 999.4586751453871\n"
     ]
    }
   ],
   "source": [
    "import numpy as np\n",
    "from scipy.special import logsumexp\n",
    "\n",
    "a = np.arange(1000)\n",
    "\n",
    "print('logsumexpを使用せず計算:', np.log(np.sum(np.exp(a))))\n",
    "print('logsumexpを使用して計算:', logsumexp(a))\n"
   ]
  }
 ],
 "metadata": {
  "kernelspec": {
   "display_name": "Python 3",
   "language": "python",
   "name": "python3"
  },
  "language_info": {
   "codemirror_mode": {
    "name": "ipython",
    "version": 3
   },
   "file_extension": ".py",
   "mimetype": "text/x-python",
   "name": "python",
   "nbconvert_exporter": "python",
   "pygments_lexer": "ipython3",
   "version": "3.7.4"
  }
 },
 "nbformat": 4,
 "nbformat_minor": 2
}
