{
 "cells": [
  {
   "cell_type": "code",
   "execution_count": 10,
   "id": "4cf219eb",
   "metadata": {},
   "outputs": [],
   "source": [
    "%matplotlib inline\n",
    "import os\n",
    "import sys\n",
    "sys.path.insert(0, os.path.abspath('..'))\n",
    "\n",
    "import numpy as np\n",
    "import matplotlib.pyplot as plt\n",
    "\n",
    "from bayesml import bernoulli\n",
    "\n",
    "NUM_PARAMS = 20\n",
    "NUM_SAMPLE = 20\n",
    "SAMPLE_SIZE = 25\n",
    "STEP = 5\n",
    "\n",
    "H_ALPHA =0.5\n",
    "H_BETA = 0.5\n",
    "\n",
    "def zero_one_loss(y,y_hat):\n",
    "    if y == y_hat:\n",
    "        return 0\n",
    "    else:\n",
    "        return 1\n",
    "\n",
    "def squared_loss(y,y_hat):\n",
    "    return (y-y_hat)**2"
   ]
  },
  {
   "cell_type": "code",
   "execution_count": 11,
   "id": "79c17856",
   "metadata": {},
   "outputs": [],
   "source": [
    "# パラメータ，データ，結果を保存するフォルダを作成\n",
    "for i in range(NUM_PARAMS):\n",
    "    for j in range(NUM_SAMPLE):\n",
    "        os.makedirs(f\"./data/{i:02}/{j:02}\")"
   ]
  },
  {
   "cell_type": "code",
   "execution_count": 12,
   "id": "ea3a7b6e",
   "metadata": {},
   "outputs": [],
   "source": [
    "# パラメータ，データを生成\n",
    "model = bernoulli.GenModel(h_alpha=H_ALPHA,h_beta=H_BETA,seed=123)\n",
    "model.save_h_params(\"./data/hparams\")\n",
    "for i in range(NUM_PARAMS):\n",
    "    model.gen_params()\n",
    "    model.save_params(f\"./data/{i:02}/params\")\n",
    "    \n",
    "    for j in range(NUM_SAMPLE):\n",
    "        model.save_sample(f\"./data/{i:02}/{j:02}/sample\",SAMPLE_SIZE)"
   ]
  },
  {
   "cell_type": "code",
   "execution_count": 13,
   "id": "45064a83",
   "metadata": {},
   "outputs": [
    {
     "name": "stdout",
     "output_type": "stream",
     "text": [
      "[0.01988765 0.01109221 0.00749352 0.00565451 0.00478542]\n",
      "[0.02674216 0.01412451 0.00919641 0.00683949 0.00562606]\n"
     ]
    }
   ],
   "source": [
    "# ベイズリスク確認\n",
    "loss_proposal = np.zeros([NUM_PARAMS,NUM_SAMPLE,SAMPLE_SIZE//STEP])\n",
    "loss_comparison = np.zeros([NUM_PARAMS,NUM_SAMPLE,SAMPLE_SIZE//STEP])\n",
    "model = bernoulli.LearnModel(h0_alpha=H_ALPHA,h0_beta=H_BETA)\n",
    "for i in range(NUM_PARAMS):\n",
    "    true_param = np.load(f\"./data/{i:02}/params.npz\")[\"p\"]\n",
    "\n",
    "    for j in range(NUM_SAMPLE):\n",
    "        sample = np.load(f\"./data/{i:02}/{j:02}/sample.npz\")[\"X\"]\n",
    "\n",
    "        for  k in range(SAMPLE_SIZE//STEP):\n",
    "            model.reset_hn_params()\n",
    "            model.update_posterior(sample[:(k+1)*STEP])\n",
    "            loss_proposal[i,j,k] = squared_loss(true_param, model.estimate_params(loss=\"squared\"))\n",
    "            loss_comparison[i,j,k] = squared_loss(true_param, model.estimate_params(loss=\"0-1\"))\n",
    "            \n",
    "        np.save(f\"./data/{i:02}/{j:02}/loss_proposal\",loss_proposal[i,j])\n",
    "        np.save(f\"./data/{i:02}/{j:02}/loss_comparison\",loss_comparison[i,j])\n",
    "\n",
    "    np.save(f\"./data/{i:02}/risk_proposal\",loss_proposal[i].sum(axis=0)/NUM_SAMPLE)\n",
    "    np.save(f\"./data/{i:02}/risk_comparison\",loss_comparison[i].sum(axis=0)/NUM_SAMPLE)\n",
    "\n",
    "np.save(\"./data/bayes_risk_proposal\",loss_proposal.sum(axis=(0,1))/NUM_PARAMS/NUM_SAMPLE)\n",
    "np.save(\"./data/bayes_risk_comparison\",loss_comparison.sum(axis=(0,1))/NUM_PARAMS/NUM_SAMPLE)\n",
    "\n",
    "print(loss_proposal.sum(axis=(0,1))/NUM_PARAMS/NUM_SAMPLE)\n",
    "print(loss_comparison.sum(axis=(0,1))/NUM_PARAMS/NUM_SAMPLE)"
   ]
  },
  {
   "cell_type": "code",
   "execution_count": 14,
   "id": "e90a8bdf",
   "metadata": {},
   "outputs": [
    {
     "data": {
      "text/plain": [
       "<matplotlib.legend.Legend at 0x13ba1178388>"
      ]
     },
     "execution_count": 14,
     "metadata": {},
     "output_type": "execute_result"
    },
    {
     "data": {
      "image/png": "[encoded data removed]",
      "text/plain": [
       "<Figure size 432x288 with 1 Axes>"
      ]
     },
     "metadata": {
      "needs_background": "light"
     },
     "output_type": "display_data"
    }
   ],
   "source": [
    "fig, ax = plt.subplots()\n",
    "ax.plot(np.arange(0,SAMPLE_SIZE,STEP),loss_comparison.sum(axis=(0,1))/NUM_PARAMS/NUM_SAMPLE,label=\"Comparison\")\n",
    "ax.plot(np.arange(0,SAMPLE_SIZE,STEP),loss_proposal.sum(axis=(0,1))/NUM_PARAMS/NUM_SAMPLE,label=\"Proposal\")\n",
    "ax.set_xlabel(\"Sample size\")\n",
    "ax.set_ylabel(\"Bayes risk\")\n",
    "ax.legend()"
   ]
  },
  {
   "cell_type": "code",
   "execution_count": null,
   "id": "154e575e",
   "metadata": {},
   "outputs": [],
   "source": []
  }
 ],
 "metadata": {
  "kernelspec": {
   "display_name": "Python 3",
   "language": "python",
   "name": "python3"
  },
  "language_info": {
   "codemirror_mode": {
    "name": "ipython",
    "version": 3
   },
   "file_extension": ".py",
   "mimetype": "text/x-python",
   "name": "python",
   "nbconvert_exporter": "python",
   "pygments_lexer": "ipython3",
   "version": "3.7.11"
  },
  "toc": {
   "base_numbering": 1,
   "nav_menu": {},
   "number_sections": true,
   "sideBar": true,
   "skip_h1_title": false,
   "title_cell": "Table of Contents",
   "title_sidebar": "Contents",
   "toc_cell": false,
   "toc_position": {},
   "toc_section_display": true,
   "toc_window_display": false
  }
 },
 "nbformat": 4,
 "nbformat_minor": 5
}
